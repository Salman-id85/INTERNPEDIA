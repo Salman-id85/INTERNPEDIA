{
 "cells": [
  {
   "cell_type": "code",
   "execution_count": 10,
   "id": "a3643568-dd06-4be8-998d-a2b370a2875c",
   "metadata": {},
   "outputs": [],
   "source": [
    "import pandas as pd\n",
    "from sklearn.model_selection import train_test_split\n",
    "from sklearn.preprocessing import StandardScaler\n",
    "from sklearn.ensemble import RandomForestClassifier\n",
    "from sklearn.linear_model import LogisticRegression\n",
    "from sklearn.metrics import accuracy_score, recall_score, f1_score\n",
    "from imblearn.over_sampling import SMOTE\n"
   ]
  },
  {
   "cell_type": "code",
   "execution_count": 12,
   "id": "59bce131-71cc-4630-b6f8-740715f5b977",
   "metadata": {},
   "outputs": [],
   "source": [
    "# Load and preprocess data\n",
    "df = pd.read_csv('creditcard.csv')\n",
    "df = df.dropna()  # Handle missing values\n"
   ]
  },
  {
   "cell_type": "code",
   "execution_count": 14,
   "id": "290c5c85-8540-499c-b6ec-5159b59245df",
   "metadata": {},
   "outputs": [],
   "source": [
    "# Ensure column names match\n",
    "X = df.drop('Class', axis=1)  # Drop the target column\n",
    "y = df['Class']               # Target column\n"
   ]
  },
  {
   "cell_type": "code",
   "execution_count": 16,
   "id": "17bb0069-1759-414d-a176-7e36eda4c454",
   "metadata": {},
   "outputs": [],
   "source": [
    "# Normalize numerical features, if needed\n",
    "scaler = StandardScaler()\n",
    "X[['Amount']] = scaler.fit_transform(X[['Amount']])\n"
   ]
  },
  {
   "cell_type": "code",
   "execution_count": 18,
   "id": "8a565e44-2685-448a-bb29-bd26212a3362",
   "metadata": {},
   "outputs": [],
   "source": [
    "# Split dataset\n",
    "X_train, X_test, y_train, y_test = train_test_split(X, y, test_size=0.2, random_state=42)\n"
   ]
  },
  {
   "cell_type": "code",
   "execution_count": 20,
   "id": "9d04e3f1-a04b-408b-b01d-46a9c82900ee",
   "metadata": {},
   "outputs": [],
   "source": [
    "\n",
    "# Handle class imbalance with SMOTE\n",
    "smote = SMOTE(random_state=42)\n",
    "X_train_smote, y_train_smote = smote.fit_resample(X_train, y_train)\n"
   ]
  },
  {
   "cell_type": "code",
   "execution_count": 22,
   "id": "23723c4d-4986-4333-828a-6bcadae483b6",
   "metadata": {},
   "outputs": [
    {
     "name": "stdout",
     "output_type": "stream",
     "text": [
      "Random Forest Performance:\n",
      "Accuracy: 0.9995435553526912\n",
      "Recall: 0.8469387755102041\n",
      "F1 Score: 0.8645833333333334\n"
     ]
    }
   ],
   "source": [
    "# Train and evaluate Random Forest\n",
    "rf_model = RandomForestClassifier(random_state=42)\n",
    "rf_model.fit(X_train_smote, y_train_smote)\n",
    "y_pred_rf = rf_model.predict(X_test)\n",
    "\n",
    "print(\"Random Forest Performance:\")\n",
    "print(\"Accuracy:\", accuracy_score(y_test, y_pred_rf))\n",
    "print(\"Recall:\", recall_score(y_test, y_pred_rf))\n",
    "print(\"F1 Score:\", f1_score(y_test, y_pred_rf))\n"
   ]
  },
  {
   "cell_type": "code",
   "execution_count": 24,
   "id": "0a9380be-c9a5-438a-a227-0bf15b16dc77",
   "metadata": {},
   "outputs": [
    {
     "name": "stdout",
     "output_type": "stream",
     "text": [
      "Logistic Regression Performance:\n",
      "Accuracy: 0.9903971068431586\n",
      "Recall: 0.9183673469387755\n",
      "F1 Score: 0.24759284731774414\n"
     ]
    },
    {
     "name": "stderr",
     "output_type": "stream",
     "text": [
      "C:\\Users\\salma\\anaconda3\\Lib\\site-packages\\sklearn\\linear_model\\_logistic.py:469: ConvergenceWarning: lbfgs failed to converge (status=1):\n",
      "STOP: TOTAL NO. of ITERATIONS REACHED LIMIT.\n",
      "\n",
      "Increase the number of iterations (max_iter) or scale the data as shown in:\n",
      "    https://scikit-learn.org/stable/modules/preprocessing.html\n",
      "Please also refer to the documentation for alternative solver options:\n",
      "    https://scikit-learn.org/stable/modules/linear_model.html#logistic-regression\n",
      "  n_iter_i = _check_optimize_result(\n"
     ]
    }
   ],
   "source": [
    "# Train and evaluate Logistic Regression\n",
    "logreg_model = LogisticRegression(max_iter=1000, random_state=42)\n",
    "logreg_model.fit(X_train_smote, y_train_smote)\n",
    "y_pred_logreg = logreg_model.predict(X_test)\n",
    "\n",
    "print(\"Logistic Regression Performance:\")\n",
    "print(\"Accuracy:\", accuracy_score(y_test, y_pred_logreg))\n",
    "print(\"Recall:\", recall_score(y_test, y_pred_logreg))\n",
    "print(\"F1 Score:\", f1_score(y_test, y_pred_logreg))"
   ]
  },
  {
   "cell_type": "code",
   "execution_count": null,
   "id": "086e05a6-d95c-41db-9c5b-d0a63a871550",
   "metadata": {},
   "outputs": [],
   "source": []
  }
 ],
 "metadata": {
  "kernelspec": {
   "display_name": "Python 3 (ipykernel)",
   "language": "python",
   "name": "python3"
  },
  "language_info": {
   "codemirror_mode": {
    "name": "ipython",
    "version": 3
   },
   "file_extension": ".py",
   "mimetype": "text/x-python",
   "name": "python",
   "nbconvert_exporter": "python",
   "pygments_lexer": "ipython3",
   "version": "3.12.4"
  }
 },
 "nbformat": 4,
 "nbformat_minor": 5
}
